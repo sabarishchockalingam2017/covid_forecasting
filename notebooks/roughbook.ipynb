{
 "cells": [
  {
   "cell_type": "code",
   "execution_count": 2,
   "metadata": {},
   "outputs": [],
   "source": [
    "import dash"
   ]
  },
  {
   "cell_type": "code",
   "execution_count": 3,
   "metadata": {},
   "outputs": [],
   "source": [
    "import dash"
   ]
  },
  {
   "cell_type": "code",
   "execution_count": 5,
   "metadata": {},
   "outputs": [],
   "source": [
    "import os"
   ]
  },
  {
   "cell_type": "code",
   "execution_count": 13,
   "metadata": {},
   "outputs": [
    {
     "data": {
      "text/plain": [
       "['about.html', 'home.html', 'layout.html']"
      ]
     },
     "execution_count": 13,
     "metadata": {},
     "output_type": "execute_result"
    }
   ],
   "source": [
    "os.listdir('../flask_app/templates')"
   ]
  },
  {
   "cell_type": "code",
   "execution_count": 18,
   "metadata": {},
   "outputs": [
    {
     "ename": "ValueError",
     "evalue": "attempted relative import beyond top-level package",
     "output_type": "error",
     "traceback": [
      "\u001b[1;31m---------------------------------------------------------------------------\u001b[0m",
      "\u001b[1;31mValueError\u001b[0m                                Traceback (most recent call last)",
      "\u001b[1;32m<ipython-input-18-ea51f7f869cf>\u001b[0m in \u001b[0;36m<module>\u001b[1;34m\u001b[0m\n\u001b[1;32m----> 1\u001b[1;33m \u001b[1;32mfrom\u001b[0m \u001b[1;33m.\u001b[0m\u001b[1;33m.\u001b[0m\u001b[0mconfig\u001b[0m\u001b[1;33m.\u001b[0m\u001b[0mmain_config\u001b[0m \u001b[1;32mimport\u001b[0m \u001b[0mPROJECT_HOME\u001b[0m\u001b[1;33m\u001b[0m\u001b[0m\n\u001b[0m",
      "\u001b[1;31mValueError\u001b[0m: attempted relative import beyond top-level package"
     ]
    }
   ],
   "source": [
    "from ..config.main_config import PROJECT_HOME"
   ]
  },
  {
   "cell_type": "code",
   "execution_count": 34,
   "metadata": {},
   "outputs": [],
   "source": [
    "from jinja2 import Environment, FileSystemLoader\n",
    "import os\n",
    "from flask import url_for\n",
    "import jinja2"
   ]
  },
  {
   "cell_type": "code",
   "execution_count": 25,
   "metadata": {},
   "outputs": [],
   "source": [
    "root = os.path.dirname(os.path.abspath(os.path.abspath('.')))\n",
    "templates_dir = os.path.join(root, 'flask_app','templates')\n",
    "env = Environment( loader = FileSystemLoader(templates_dir) )\n",
    "template = env.get_template('layout.html')"
   ]
  },
  {
   "cell_type": "code",
   "execution_count": 39,
   "metadata": {},
   "outputs": [],
   "source": [
    "template2 = open(os.path.join(templates_dir,'home.html')).read()"
   ]
  },
  {
   "cell_type": "code",
   "execution_count": 40,
   "metadata": {},
   "outputs": [
    {
     "data": {
      "text/plain": [
       "'{% extends \"layout.html\" %}\\n{% block content %}\\n    <div class=\"content-section\">\\n\\n    </div>\\n\\n{% endblock content %}\\n'"
      ]
     },
     "execution_count": 40,
     "metadata": {},
     "output_type": "execute_result"
    }
   ],
   "source": [
    "template2"
   ]
  },
  {
   "cell_type": "code",
   "execution_count": 47,
   "metadata": {},
   "outputs": [],
   "source": [
    "import codecs\n",
    "import urllib"
   ]
  },
  {
   "cell_type": "code",
   "execution_count": 53,
   "metadata": {},
   "outputs": [],
   "source": [
    "template2 = codecs.open(os.path.join(templates_dir,'home.html'),'r').read()\n"
   ]
  },
  {
   "cell_type": "code",
   "execution_count": 56,
   "metadata": {},
   "outputs": [
    {
     "data": {
      "text/plain": [
       "<Template 'layout.html'>"
      ]
     },
     "execution_count": 56,
     "metadata": {},
     "output_type": "execute_result"
    }
   ],
   "source": [
    "template"
   ]
  },
  {
   "cell_type": "code",
   "execution_count": 62,
   "metadata": {},
   "outputs": [],
   "source": [
    "template = open(os.path.join(templates_dir,'layout.html')).read()"
   ]
  },
  {
   "cell_type": "code",
   "execution_count": 63,
   "metadata": {},
   "outputs": [
    {
     "data": {
      "text/plain": [
       "'<!DOCTYPE html>\\n<html>\\n<head>\\n    <!-- Required meta tags -->\\n    <meta charset=\"utf-8\">\\n    <meta name=\"viewport\" content=\"width=device-width, initial-scale=1, shrink-to-fit=no\">\\n\\n    <!-- Bootstrap CSS -->\\n    <link rel=\"stylesheet\" href=\"https://maxcdn.bootstrapcdn.com/bootstrap/4.0.0/css/bootstrap.min.css\" integrity=\"sha384-Gn5384xqQ1aoWXA+058RXPxPg6fy4IWvTNh0E263XmFcJlSAwiGgFAW/dAiS6JXm\" crossorigin=\"anonymous\">\\n\\n    <link rel=\"stylesheet\" type=\"text/css\" href=\"{{ url_for(\\'static\\', filename=\\'main.css\\') }}\">\\n\\n    {% if title %}\\n        <title>COVID-19 Time Series Analysis - {{ title }}</title>\\n    {% else %}\\n        <title>COVID-19 Time Series Analysis</title>\\n    {% endif %}\\n</head>\\n<body>\\n    <header class=\"site-header\">\\n      <nav class=\"navbar navbar-expand-md navbar-dark bg-cred fixed-top\">\\n        <div class=\"container\">\\n          <a class=\"navbar-brand mr-4\" href=\"/\">COVID-19 Time Series Analysis</a>\\n          <button class=\"navbar-toggler\" type=\"button\" data-toggle=\"collapse\" data-target=\"#navbarToggle\" aria-controls=\"navbarToggle\" aria-expanded=\"false\" aria-label=\"Toggle navigation\">\\n            <span class=\"navbar-toggler-icon\"></span>\\n          </button>\\n          <div class=\"collapse navbar-collapse\" id=\"navbarToggle\">\\n            <div class=\"navbar-nav mr-auto\">\\n              <a class=\"nav-item nav-link\" href=\"/\">Home</a>\\n              <!-- <a class=\"nav-item nav-link\" href=\"/about\">About</a> -->\\n            </div>\\n          </div>\\n        </div>\\n      </nav>\\n    </header>\\n\\n    <main role=\"main\" class=\"container\">\\n      <div class=\"row\">\\n        <div class=\"col-md-12\">\\n          {%app_entry%}\\n        </div>\\n      </div>\\n\\n    </main>\\n\\n\\n    <!-- Optional JavaScript -->\\n    <!-- jQuery first, then Popper.js, then Bootstrap JS -->\\n    <script src=\"https://code.jquery.com/jquery-3.2.1.slim.min.js\" integrity=\"sha384-KJ3o2DKtIkvYIK3UENzmM7KCkRr/rE9/Qpg6aAZGJwFDMVNA/GpGFF93hXpG5KkN\" crossorigin=\"anonymous\"></script>\\n    <script src=\"https://cdnjs.cloudflare.com/ajax/libs/popper.js/1.12.9/umd/popper.min.js\" integrity=\"sha384-ApNbgh9B+Y1QKtv3Rn7W3mgPxhU9K/ScQsAP7hUibX39j7fakFPskvXusvfa0b4Q\" crossorigin=\"anonymous\"></script>\\n    <script src=\"https://maxcdn.bootstrapcdn.com/bootstrap/4.0.0/js/bootstrap.min.js\" integrity=\"sha384-JZR6Spejh4U02d8jOt6vLEHfe/JQGiRRSQQxSfFWpi1MquVdAyjUar5+76PVCmYl\" crossorigin=\"anonymous\"></script>\\n</body>\\n</html>\\n'"
      ]
     },
     "execution_count": 63,
     "metadata": {},
     "output_type": "execute_result"
    }
   ],
   "source": [
    "template.replace('{% block content %}{% endblock %}','{%app_entry%}')"
   ]
  },
  {
   "cell_type": "code",
   "execution_count": 64,
   "metadata": {},
   "outputs": [],
   "source": [
    "from pathlib import Path"
   ]
  },
  {
   "cell_type": "code",
   "execution_count": 65,
   "metadata": {},
   "outputs": [
    {
     "data": {
      "text/plain": [
       "'<!DOCTYPE html>\\n<html>\\n<head>\\n    <!-- Required meta tags -->\\n    <meta charset=\"utf-8\">\\n    <meta name=\"viewport\" content=\"width=device-width, initial-scale=1, shrink-to-fit=no\">\\n\\n    <!-- Bootstrap CSS -->\\n    <link rel=\"stylesheet\" href=\"https://maxcdn.bootstrapcdn.com/bootstrap/4.0.0/css/bootstrap.min.css\" integrity=\"sha384-Gn5384xqQ1aoWXA+058RXPxPg6fy4IWvTNh0E263XmFcJlSAwiGgFAW/dAiS6JXm\" crossorigin=\"anonymous\">\\n\\n    <link rel=\"stylesheet\" type=\"text/css\" href=\"{{ url_for(\\'static\\', filename=\\'main.css\\') }}\">\\n\\n    {% if title %}\\n        <title>COVID-19 Time Series Analysis - {{ title }}</title>\\n    {% else %}\\n        <title>COVID-19 Time Series Analysis</title>\\n    {% endif %}\\n</head>\\n<body>\\n    <header class=\"site-header\">\\n      <nav class=\"navbar navbar-expand-md navbar-dark bg-cred fixed-top\">\\n        <div class=\"container\">\\n          <a class=\"navbar-brand mr-4\" href=\"/\">COVID-19 Time Series Analysis</a>\\n          <button class=\"navbar-toggler\" type=\"button\" data-toggle=\"collapse\" data-target=\"#navbarToggle\" aria-controls=\"navbarToggle\" aria-expanded=\"false\" aria-label=\"Toggle navigation\">\\n            <span class=\"navbar-toggler-icon\"></span>\\n          </button>\\n          <div class=\"collapse navbar-collapse\" id=\"navbarToggle\">\\n            <div class=\"navbar-nav mr-auto\">\\n              <a class=\"nav-item nav-link\" href=\"/\">Home</a>\\n              <!-- <a class=\"nav-item nav-link\" href=\"/about\">About</a> -->\\n            </div>\\n          </div>\\n        </div>\\n      </nav>\\n    </header>\\n\\n    <main role=\"main\" class=\"container\">\\n      <div class=\"row\">\\n        <div class=\"col-md-12\">\\n          {% block content %}{% endblock %}\\n        </div>\\n      </div>\\n\\n    </main>\\n\\n\\n    <!-- Optional JavaScript -->\\n    <!-- jQuery first, then Popper.js, then Bootstrap JS -->\\n    <script src=\"https://code.jquery.com/jquery-3.2.1.slim.min.js\" integrity=\"sha384-KJ3o2DKtIkvYIK3UENzmM7KCkRr/rE9/Qpg6aAZGJwFDMVNA/GpGFF93hXpG5KkN\" crossorigin=\"anonymous\"></script>\\n    <script src=\"https://cdnjs.cloudflare.com/ajax/libs/popper.js/1.12.9/umd/popper.min.js\" integrity=\"sha384-ApNbgh9B+Y1QKtv3Rn7W3mgPxhU9K/ScQsAP7hUibX39j7fakFPskvXusvfa0b4Q\" crossorigin=\"anonymous\"></script>\\n    <script src=\"https://maxcdn.bootstrapcdn.com/bootstrap/4.0.0/js/bootstrap.min.js\" integrity=\"sha384-JZR6Spejh4U02d8jOt6vLEHfe/JQGiRRSQQxSfFWpi1MquVdAyjUar5+76PVCmYl\" crossorigin=\"anonymous\"></script>\\n</body>\\n</html>\\n'"
      ]
     },
     "execution_count": 65,
     "metadata": {},
     "output_type": "execute_result"
    }
   ],
   "source": [
    "template"
   ]
  }
 ],
 "metadata": {
  "kernelspec": {
   "display_name": "Python 3",
   "language": "python",
   "name": "python3"
  },
  "language_info": {
   "codemirror_mode": {
    "name": "ipython",
    "version": 3
   },
   "file_extension": ".py",
   "mimetype": "text/x-python",
   "name": "python",
   "nbconvert_exporter": "python",
   "pygments_lexer": "ipython3",
   "version": "3.7.0"
  }
 },
 "nbformat": 4,
 "nbformat_minor": 4
}
